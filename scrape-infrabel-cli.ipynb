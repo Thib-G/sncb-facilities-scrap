{
 "cells": [
  {
   "cell_type": "code",
   "execution_count": 1,
   "id": "015b45ef-83d0-44e8-a992-e9d4cdea47dd",
   "metadata": {},
   "outputs": [],
   "source": [
    "import cloudscraper\n",
    "from bs4 import BeautifulSoup\n",
    "import pandas as pd\n",
    "import geopandas as gpd"
   ]
  },
  {
   "cell_type": "code",
   "execution_count": 2,
   "id": "aa199cbb-ff60-43d8-8aae-466649bac100",
   "metadata": {},
   "outputs": [],
   "source": [
    "url = 'https://infrabel.be/fr/contact?page={page}'"
   ]
  },
  {
   "cell_type": "code",
   "execution_count": 3,
   "id": "b5422476-753f-428f-a35a-424255d97cfa",
   "metadata": {},
   "outputs": [],
   "source": [
    "scraper = cloudscraper.create_scraper()"
   ]
  },
  {
   "cell_type": "code",
   "execution_count": 4,
   "id": "a4a7c465-3e8f-4ab3-9a11-a151b7c581b6",
   "metadata": {},
   "outputs": [
    {
     "data": {
      "text/plain": [
       "200"
      ]
     },
     "execution_count": 4,
     "metadata": {},
     "output_type": "execute_result"
    }
   ],
   "source": [
    "r = scraper.get(url.format(page=0))\n",
    "r.status_code"
   ]
  },
  {
   "cell_type": "code",
   "execution_count": 5,
   "id": "a927397c-8858-4c87-9a40-7aab9773e9be",
   "metadata": {},
   "outputs": [],
   "source": [
    "html_doc = r.text\n",
    "soup = BeautifulSoup(html_doc)"
   ]
  },
  {
   "cell_type": "code",
   "execution_count": 6,
   "id": "81b88c95-9aaa-47c0-a692-09a509631205",
   "metadata": {},
   "outputs": [],
   "source": [
    "# building a set using {} to avoid duplicates\n",
    "pages = sorted(list({\n",
    "    int(item['href'].replace('?page=', ''))\n",
    "    for item in soup.select('.pager.pager__items a.pager__link')\n",
    "    if item['href'].startswith('?page=')\n",
    "}))"
   ]
  },
  {
   "cell_type": "code",
   "execution_count": 7,
   "id": "8d55e668-2ce2-440c-9857-52e203a731f1",
   "metadata": {},
   "outputs": [],
   "source": [
    "def get_lcis(soup):\n",
    "    \"\"\"\n",
    "    Returns list of LCIs from soup\n",
    "    \"\"\"\n",
    "    return [\n",
    "        {\n",
    "            'name': item.select_one('h4').get_text().strip(),\n",
    "            'address': item.select_one('.m-t-2.m-b-1.font-weight-bold').get_text().strip(),\n",
    "            'lng': float(item.select_one('meta[property=\"longitude\"]')['content']),\n",
    "            'lat': float(item.select_one('meta[property=\"latitude\"]')['content']),\n",
    "        }\n",
    "        for item in soup.select('.teaser-block')\n",
    "    ]"
   ]
  },
  {
   "cell_type": "code",
   "execution_count": null,
   "id": "c9aa6b2c-1a21-4466-8fb3-bc37f26630a0",
   "metadata": {},
   "outputs": [],
   "source": [
    "lcis = []\n",
    "for page in pages:\n",
    "    r = scraper.get(url.format(page=page))\n",
    "    html_doc = r.text\n",
    "    soup = BeautifulSoup(html_doc)\n",
    "    lcis += get_lcis(soup)"
   ]
  },
  {
   "cell_type": "code",
   "execution_count": null,
   "id": "5759322a-8aa0-4255-a503-1694c627dc2f",
   "metadata": {},
   "outputs": [],
   "source": [
    "df = pd.DataFrame(lcis)\n",
    "gdf = gpd.GeoDataFrame(df[[col for col in df.columns if col not in ['lng', 'lat']]], geometry=gpd.points_from_xy(df.lng, df.lat, crs='EPSG:4326'))\n",
    "gdf"
   ]
  },
  {
   "cell_type": "code",
   "execution_count": null,
   "id": "c51f944b-5b2f-4a17-b89c-7c28e1a6ebff",
   "metadata": {},
   "outputs": [],
   "source": [
    "gdf.to_file(\"clis.json\", driver=\"GeoJSON\")"
   ]
  },
  {
   "cell_type": "code",
   "execution_count": null,
   "id": "9fe47ec0-5024-4023-97a3-68dbf8ec5941",
   "metadata": {},
   "outputs": [],
   "source": []
  }
 ],
 "metadata": {
  "kernelspec": {
   "display_name": "Python 3 (ipykernel)",
   "language": "python",
   "name": "python3"
  },
  "language_info": {
   "codemirror_mode": {
    "name": "ipython",
    "version": 3
   },
   "file_extension": ".py",
   "mimetype": "text/x-python",
   "name": "python",
   "nbconvert_exporter": "python",
   "pygments_lexer": "ipython3",
   "version": "3.13.0"
  }
 },
 "nbformat": 4,
 "nbformat_minor": 5
}
