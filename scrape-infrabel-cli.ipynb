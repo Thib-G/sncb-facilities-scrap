{
 "cells": [
  {
   "cell_type": "code",
   "execution_count": 1,
   "id": "015b45ef-83d0-44e8-a992-e9d4cdea47dd",
   "metadata": {},
   "outputs": [],
   "source": [
    "import cloudscraper\n",
    "from bs4 import BeautifulSoup\n",
    "import pandas as pd\n",
    "import geopandas as gpd"
   ]
  },
  {
   "cell_type": "code",
   "execution_count": 2,
   "id": "aa199cbb-ff60-43d8-8aae-466649bac100",
   "metadata": {},
   "outputs": [],
   "source": [
    "url = 'https://infrabel.be/fr/contact?page={page}'"
   ]
  },
  {
   "cell_type": "code",
   "execution_count": 3,
   "id": "b5422476-753f-428f-a35a-424255d97cfa",
   "metadata": {},
   "outputs": [],
   "source": [
    "scraper = cloudscraper.create_scraper()"
   ]
  },
  {
   "cell_type": "code",
   "execution_count": 4,
   "id": "a4a7c465-3e8f-4ab3-9a11-a151b7c581b6",
   "metadata": {},
   "outputs": [
    {
     "data": {
      "text/plain": [
       "200"
      ]
     },
     "execution_count": 4,
     "metadata": {},
     "output_type": "execute_result"
    }
   ],
   "source": [
    "r = scraper.get(url.format(page=0))\n",
    "r.status_code"
   ]
  },
  {
   "cell_type": "code",
   "execution_count": 5,
   "id": "a927397c-8858-4c87-9a40-7aab9773e9be",
   "metadata": {},
   "outputs": [],
   "source": [
    "html_doc = r.text\n",
    "soup = BeautifulSoup(html_doc)"
   ]
  },
  {
   "cell_type": "code",
   "execution_count": 6,
   "id": "81b88c95-9aaa-47c0-a692-09a509631205",
   "metadata": {},
   "outputs": [],
   "source": [
    "# building a set using {} to avoid duplicates\n",
    "pages = sorted(list({\n",
    "    int(item['href'].replace('?page=', ''))\n",
    "    for item in soup.select('.pager.pager__items a.pager__link')\n",
    "    if item['href'].startswith('?page=')\n",
    "}))"
   ]
  },
  {
   "cell_type": "code",
   "execution_count": 7,
   "id": "8d55e668-2ce2-440c-9857-52e203a731f1",
   "metadata": {},
   "outputs": [],
   "source": [
    "def get_lcis(soup):\n",
    "    \"\"\"\n",
    "    Returns list of LCIs from soup\n",
    "    \"\"\"\n",
    "    return [\n",
    "        {\n",
    "            'name': item.select_one('h4').get_text().strip(),\n",
    "            'address': item.select_one('.m-t-2.m-b-1.font-weight-bold').get_text().strip(),\n",
    "            'lng': float(item.select_one('meta[property=\"longitude\"]')['content']),\n",
    "            'lat': float(item.select_one('meta[property=\"latitude\"]')['content']),\n",
    "        }\n",
    "        for item in soup.select('.teaser-block')\n",
    "    ]"
   ]
  },
  {
   "cell_type": "code",
   "execution_count": 8,
   "id": "c9aa6b2c-1a21-4466-8fb3-bc37f26630a0",
   "metadata": {},
   "outputs": [],
   "source": [
    "lcis = []\n",
    "for page in pages:\n",
    "    r = scraper.get(url.format(page=0))\n",
    "    html_doc = r.text\n",
    "    soup = BeautifulSoup(html_doc)\n",
    "    lcis += get_lcis(soup)"
   ]
  },
  {
   "cell_type": "code",
   "execution_count": 9,
   "id": "5759322a-8aa0-4255-a503-1694c627dc2f",
   "metadata": {},
   "outputs": [
    {
     "data": {
      "text/html": [
       "<div>\n",
       "<style scoped>\n",
       "    .dataframe tbody tr th:only-of-type {\n",
       "        vertical-align: middle;\n",
       "    }\n",
       "\n",
       "    .dataframe tbody tr th {\n",
       "        vertical-align: top;\n",
       "    }\n",
       "\n",
       "    .dataframe thead th {\n",
       "        text-align: right;\n",
       "    }\n",
       "</style>\n",
       "<table border=\"1\" class=\"dataframe\">\n",
       "  <thead>\n",
       "    <tr style=\"text-align: right;\">\n",
       "      <th></th>\n",
       "      <th>name</th>\n",
       "      <th>address</th>\n",
       "      <th>geometry</th>\n",
       "    </tr>\n",
       "  </thead>\n",
       "  <tbody>\n",
       "    <tr>\n",
       "      <th>0</th>\n",
       "      <td>Werkplaats Roeselare</td>\n",
       "      <td>Beverensteenweg 177  BE- 8800 Roeselare</td>\n",
       "      <td>POINT (3.13041 50.95698)</td>\n",
       "    </tr>\n",
       "    <tr>\n",
       "      <th>1</th>\n",
       "      <td>South City</td>\n",
       "      <td>Place Marcel Broodthaers 2 1060 Bruxelles</td>\n",
       "      <td>POINT (4.33766 50.833)</td>\n",
       "    </tr>\n",
       "    <tr>\n",
       "      <th>2</th>\n",
       "      <td>Ringstation</td>\n",
       "      <td>Rue des Deux Gares, 82 1070 Anderlecht</td>\n",
       "      <td>POINT (4.32696 50.83222)</td>\n",
       "    </tr>\n",
       "    <tr>\n",
       "      <th>3</th>\n",
       "      <td>Recycling Office</td>\n",
       "      <td>Place Marcel Broodthaers, 2 - 1060 Bruxelles</td>\n",
       "      <td>POINT (4.33822 50.83578)</td>\n",
       "    </tr>\n",
       "    <tr>\n",
       "      <th>4</th>\n",
       "      <td>LCI–Antenne Antwerpen-Oost</td>\n",
       "      <td>Draakplaats  BE- 2018 Antwerpen</td>\n",
       "      <td>POINT (4.43222 51.20576)</td>\n",
       "    </tr>\n",
       "    <tr>\n",
       "      <th>...</th>\n",
       "      <td>...</td>\n",
       "      <td>...</td>\n",
       "      <td>...</td>\n",
       "    </tr>\n",
       "    <tr>\n",
       "      <th>76</th>\n",
       "      <td>LCI–Antenne Antwerpen-Oost</td>\n",
       "      <td>Draakplaats  BE- 2018 Antwerpen</td>\n",
       "      <td>POINT (4.43222 51.20576)</td>\n",
       "    </tr>\n",
       "    <tr>\n",
       "      <th>77</th>\n",
       "      <td>LCI-Antenne Zottegem</td>\n",
       "      <td>Broeder Mareslaan  BE- 9620 Zottegem</td>\n",
       "      <td>POINT (3.8161 50.87123)</td>\n",
       "    </tr>\n",
       "    <tr>\n",
       "      <th>78</th>\n",
       "      <td>LCI-Antenne Zeebrugge</td>\n",
       "      <td>New Yorklaan  BE- 8380 Zeebrugge</td>\n",
       "      <td>POINT (3.18605 51.33036)</td>\n",
       "    </tr>\n",
       "    <tr>\n",
       "      <th>79</th>\n",
       "      <td>LCI-Antenne Zaventem</td>\n",
       "      <td>Heldenplein  BE- 1930 Zaventem</td>\n",
       "      <td>POINT (4.47145 50.88495)</td>\n",
       "    </tr>\n",
       "    <tr>\n",
       "      <th>80</th>\n",
       "      <td>LCI-Antenne Wondelgem</td>\n",
       "      <td>Molenstraat thv 37  BE- 9032 Wondelgem</td>\n",
       "      <td>POINT (3.71456 51.08546)</td>\n",
       "    </tr>\n",
       "  </tbody>\n",
       "</table>\n",
       "<p>81 rows × 3 columns</p>\n",
       "</div>"
      ],
      "text/plain": [
       "                          name                                       address  \\\n",
       "0         Werkplaats Roeselare       Beverensteenweg 177  BE- 8800 Roeselare   \n",
       "1                   South City     Place Marcel Broodthaers 2 1060 Bruxelles   \n",
       "2                  Ringstation        Rue des Deux Gares, 82 1070 Anderlecht   \n",
       "3             Recycling Office  Place Marcel Broodthaers, 2 - 1060 Bruxelles   \n",
       "4   LCI–Antenne Antwerpen-Oost               Draakplaats  BE- 2018 Antwerpen   \n",
       "..                         ...                                           ...   \n",
       "76  LCI–Antenne Antwerpen-Oost               Draakplaats  BE- 2018 Antwerpen   \n",
       "77        LCI-Antenne Zottegem          Broeder Mareslaan  BE- 9620 Zottegem   \n",
       "78       LCI-Antenne Zeebrugge              New Yorklaan  BE- 8380 Zeebrugge   \n",
       "79        LCI-Antenne Zaventem                Heldenplein  BE- 1930 Zaventem   \n",
       "80       LCI-Antenne Wondelgem        Molenstraat thv 37  BE- 9032 Wondelgem   \n",
       "\n",
       "                    geometry  \n",
       "0   POINT (3.13041 50.95698)  \n",
       "1     POINT (4.33766 50.833)  \n",
       "2   POINT (4.32696 50.83222)  \n",
       "3   POINT (4.33822 50.83578)  \n",
       "4   POINT (4.43222 51.20576)  \n",
       "..                       ...  \n",
       "76  POINT (4.43222 51.20576)  \n",
       "77   POINT (3.8161 50.87123)  \n",
       "78  POINT (3.18605 51.33036)  \n",
       "79  POINT (4.47145 50.88495)  \n",
       "80  POINT (3.71456 51.08546)  \n",
       "\n",
       "[81 rows x 3 columns]"
      ]
     },
     "execution_count": 9,
     "metadata": {},
     "output_type": "execute_result"
    }
   ],
   "source": [
    "df = pd.DataFrame(lcis)\n",
    "gdf = gpd.GeoDataFrame(df[[col for col in df.columns if col not in ['lng', 'lat']]], geometry=gpd.points_from_xy(df.lng, df.lat, crs='EPSG:4326'))\n",
    "gdf"
   ]
  },
  {
   "cell_type": "code",
   "execution_count": 10,
   "id": "c51f944b-5b2f-4a17-b89c-7c28e1a6ebff",
   "metadata": {},
   "outputs": [],
   "source": [
    "gdf.to_file(\"clis.json\", driver=\"GeoJSON\")"
   ]
  },
  {
   "cell_type": "code",
   "execution_count": null,
   "id": "9fe47ec0-5024-4023-97a3-68dbf8ec5941",
   "metadata": {},
   "outputs": [],
   "source": []
  }
 ],
 "metadata": {
  "kernelspec": {
   "display_name": "Python 3 (ipykernel)",
   "language": "python",
   "name": "python3"
  },
  "language_info": {
   "codemirror_mode": {
    "name": "ipython",
    "version": 3
   },
   "file_extension": ".py",
   "mimetype": "text/x-python",
   "name": "python",
   "nbconvert_exporter": "python",
   "pygments_lexer": "ipython3",
   "version": "3.13.0"
  }
 },
 "nbformat": 4,
 "nbformat_minor": 5
}
