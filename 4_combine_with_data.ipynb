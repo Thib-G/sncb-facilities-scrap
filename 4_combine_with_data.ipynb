{
 "cells": [
  {
   "cell_type": "code",
   "execution_count": 1,
   "id": "1e57f527-45d1-49bc-919d-e795b399a8d0",
   "metadata": {},
   "outputs": [],
   "source": [
    "import unicodedata\n",
    "import requests\n",
    "import pandas as pd\n",
    "import duckdb"
   ]
  },
  {
   "cell_type": "code",
   "execution_count": 2,
   "id": "fdc49451-89f8-403b-a8b8-4f03264d8d61",
   "metadata": {},
   "outputs": [],
   "source": [
    "r = requests.get('https://opendata.infrabel.be/api/explore/v2.1/catalog/datasets/operationele-punten-van-het-netwerk/exports/json?lang=fr&timezone=Europe%2FBerlin')"
   ]
  },
  {
   "cell_type": "code",
   "execution_count": 3,
   "id": "fb6e6bb2-ac85-43d1-b109-415c57174cec",
   "metadata": {},
   "outputs": [],
   "source": [
    "op_points = r.json()"
   ]
  },
  {
   "cell_type": "code",
   "execution_count": 4,
   "id": "a0586b54-d172-4f42-96a6-81ab1ef06acc",
   "metadata": {},
   "outputs": [
    {
     "data": {
      "text/plain": [
       "['Junction',\n",
       " '6',\n",
       " 'Service stop',\n",
       " 'Station',\n",
       " 'Net borde',\n",
       " 'Stop in open track',\n",
       " 'Movable bridge',\n",
       " '8',\n",
       " 'Other',\n",
       " 'Grid',\n",
       " 'Connection',\n",
       " 'Service installation']"
      ]
     },
     "execution_count": 4,
     "metadata": {},
     "output_type": "execute_result"
    }
   ],
   "source": [
    "list(set([row['class_en'] for row in op_points]))"
   ]
  },
  {
   "cell_type": "code",
   "execution_count": 5,
   "id": "d8a50d1b-6876-4c7d-bfad-9bb36d34e3b1",
   "metadata": {},
   "outputs": [],
   "source": [
    "df_facilities = pd.read_csv('facilities_flattened.csv')"
   ]
  },
  {
   "cell_type": "code",
   "execution_count": 6,
   "id": "422cefb0-ef32-4ae6-a5cf-c768645400ba",
   "metadata": {},
   "outputs": [],
   "source": [
    "# Function to remove accents\n",
    "def remove_accents(text):\n",
    "    if isinstance(text, str):  # Ensure the input is a string\n",
    "        # Normalize to NFD (decomposed) form and filter out non-spacing marks\n",
    "        return ''.join(char for char in unicodedata.normalize('NFD', text) if unicodedata.category(char) != 'Mn')\n",
    "    return text  # Return the original value if not a string"
   ]
  },
  {
   "cell_type": "code",
   "execution_count": 7,
   "id": "fa1469b9-2f0e-45cf-9e6c-a17a308c63c5",
   "metadata": {},
   "outputs": [],
   "source": [
    "df_op = pd.DataFrame(op_points)\n",
    "df_op['commerciallongnamefrench_noaccents'] = df_op['commerciallongnamefrench'].apply(remove_accents)\n",
    "df_op['commerciallongnamedutch_noaccents'] = df_op['commerciallongnamedutch'].apply(remove_accents)"
   ]
  },
  {
   "cell_type": "code",
   "execution_count": 8,
   "id": "d1a6090a-baf9-4cfa-b283-19e5654bb9e8",
   "metadata": {},
   "outputs": [
    {
     "data": {
      "text/html": [
       "<div>\n",
       "<style scoped>\n",
       "    .dataframe tbody tr th:only-of-type {\n",
       "        vertical-align: middle;\n",
       "    }\n",
       "\n",
       "    .dataframe tbody tr th {\n",
       "        vertical-align: top;\n",
       "    }\n",
       "\n",
       "    .dataframe thead th {\n",
       "        text-align: right;\n",
       "    }\n",
       "</style>\n",
       "<table border=\"1\" class=\"dataframe\">\n",
       "  <thead>\n",
       "    <tr style=\"text-align: right;\">\n",
       "      <th></th>\n",
       "      <th>geo_point_2d</th>\n",
       "      <th>geo_shape</th>\n",
       "      <th>ptcarid</th>\n",
       "      <th>taftapcode</th>\n",
       "      <th>symbolicname</th>\n",
       "      <th>shortnamefrench</th>\n",
       "      <th>shortnamedutch</th>\n",
       "      <th>longnamefrench</th>\n",
       "      <th>longnamedutch</th>\n",
       "      <th>commercialshortnamefrench</th>\n",
       "      <th>commercialshortnamedutch</th>\n",
       "      <th>commercialmiddlenamefrench</th>\n",
       "      <th>commercialmiddlenamedutch</th>\n",
       "      <th>commerciallongnamefrench</th>\n",
       "      <th>commerciallongnamedutch</th>\n",
       "      <th>classification</th>\n",
       "      <th>class_en</th>\n",
       "      <th>class_fr</th>\n",
       "      <th>commerciallongnamefrench_noaccents</th>\n",
       "      <th>commerciallongnamedutch_noaccents</th>\n",
       "    </tr>\n",
       "  </thead>\n",
       "  <tbody>\n",
       "    <tr>\n",
       "      <th>0</th>\n",
       "      <td>{'lon': 4.533500041466839, 'lat': 50.578090649...</td>\n",
       "      <td>{'type': 'Feature', 'geometry': {'coordinates'...</td>\n",
       "      <td>1189</td>\n",
       "      <td>BE01189</td>\n",
       "      <td>LLE</td>\n",
       "      <td>VILLERS-LA-V</td>\n",
       "      <td>VILLERS-LA-V</td>\n",
       "      <td>VILLERS-LA-VILLE</td>\n",
       "      <td>VILLERS-LA-VILLE</td>\n",
       "      <td>Villers-la-V</td>\n",
       "      <td>Villers-la-V</td>\n",
       "      <td>Villers-la-Ville</td>\n",
       "      <td>Villers-la-Ville</td>\n",
       "      <td>Villers-la-Ville</td>\n",
       "      <td>Villers-la-Ville</td>\n",
       "      <td>Stopplaats</td>\n",
       "      <td>Stop in open track</td>\n",
       "      <td>Point d'arrêt</td>\n",
       "      <td>Villers-la-Ville</td>\n",
       "      <td>Villers-la-Ville</td>\n",
       "    </tr>\n",
       "  </tbody>\n",
       "</table>\n",
       "</div>"
      ],
      "text/plain": [
       "                                        geo_point_2d  \\\n",
       "0  {'lon': 4.533500041466839, 'lat': 50.578090649...   \n",
       "\n",
       "                                           geo_shape ptcarid taftapcode  \\\n",
       "0  {'type': 'Feature', 'geometry': {'coordinates'...    1189    BE01189   \n",
       "\n",
       "  symbolicname shortnamefrench shortnamedutch    longnamefrench  \\\n",
       "0          LLE    VILLERS-LA-V   VILLERS-LA-V  VILLERS-LA-VILLE   \n",
       "\n",
       "      longnamedutch commercialshortnamefrench commercialshortnamedutch  \\\n",
       "0  VILLERS-LA-VILLE              Villers-la-V             Villers-la-V   \n",
       "\n",
       "  commercialmiddlenamefrench commercialmiddlenamedutch  \\\n",
       "0           Villers-la-Ville          Villers-la-Ville   \n",
       "\n",
       "  commerciallongnamefrench commerciallongnamedutch classification  \\\n",
       "0         Villers-la-Ville        Villers-la-Ville     Stopplaats   \n",
       "\n",
       "             class_en       class_fr commerciallongnamefrench_noaccents  \\\n",
       "0  Stop in open track  Point d'arrêt                   Villers-la-Ville   \n",
       "\n",
       "  commerciallongnamedutch_noaccents  \n",
       "0                  Villers-la-Ville  "
      ]
     },
     "execution_count": 8,
     "metadata": {},
     "output_type": "execute_result"
    }
   ],
   "source": [
    "duckdb.query(\"SELECT * FROM df_op WHERE commerciallongnamefrench LIKE 'Villers%'\").df()"
   ]
  },
  {
   "cell_type": "code",
   "execution_count": 9,
   "id": "799b575c-b906-4229-b444-59fb635f23a9",
   "metadata": {},
   "outputs": [],
   "source": [
    "sql = \"\"\"\n",
    "    SELECT \n",
    "        d.*,\n",
    "        op.commerciallongnamefrench,\n",
    "        op.commerciallongnamedutch,\n",
    "        op.class_en,\n",
    "        op.taftapcode,\n",
    "        op.symbolicname\n",
    "    FROM\n",
    "        df_facilities d\n",
    "    LEFT JOIN\n",
    "        df_op op\n",
    "        ON d.name ILIKE op.commerciallongnamefrench_noaccents OR d.name ILIKE op.commerciallongnamedutch_noaccents\n",
    "\"\"\""
   ]
  },
  {
   "cell_type": "code",
   "execution_count": 10,
   "id": "cfffb449-e4a1-435e-8b01-38f400a859d5",
   "metadata": {},
   "outputs": [],
   "source": [
    "duckdb.query(sql).df().to_csv('facilities.csv')"
   ]
  },
  {
   "cell_type": "code",
   "execution_count": null,
   "id": "28ffeaaf-37cf-4ef4-8e42-29d963676598",
   "metadata": {},
   "outputs": [],
   "source": []
  }
 ],
 "metadata": {
  "kernelspec": {
   "display_name": "Python 3 (ipykernel)",
   "language": "python",
   "name": "python3"
  },
  "language_info": {
   "codemirror_mode": {
    "name": "ipython",
    "version": 3
   },
   "file_extension": ".py",
   "mimetype": "text/x-python",
   "name": "python",
   "nbconvert_exporter": "python",
   "pygments_lexer": "ipython3",
   "version": "3.13.1"
  }
 },
 "nbformat": 4,
 "nbformat_minor": 5
}
